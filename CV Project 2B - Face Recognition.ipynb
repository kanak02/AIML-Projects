{
 "cells": [
  {
   "cell_type": "markdown",
   "id": "78dbe1bc-dd00-45ef-9b39-04b3e3af0aaa",
   "metadata": {},
   "source": [
    "# Part B: Entertainment"
   ]
  },
  {
   "cell_type": "raw",
   "id": "63bd692a-72bc-42a7-abc7-2512fab3a797",
   "metadata": {},
   "source": [
    "• DOMAIN: Entertainment\n",
    "• CONTEXT: Company X owns a movie application and repository which caters movie streaming to millions of users who on subscription\n",
    "basis. Company wants to automate the process of cast and crew information in each scene from a movie such that when a user pauses on\n",
    "the movie and clicks on cast information button, the app will show details of the actor in the scene. Company has an in-house computer\n",
    "vision and multimedia experts who need to detect faces from screen shots from the movie scene.\n",
    "The data labelling is already done. Since there higher time complexity is involved in the\n",
    "• DATA DESCRIPTION: The dataset comprises of face images.\n",
    "• PROJECT OBJECTIVE: To create an image dataset to be used by AI team build an image classifier data. Profile images of people are given."
   ]
  },
  {
   "cell_type": "code",
   "execution_count": 1,
   "id": "f31946fe-6d50-4ece-8fac-15ecc5c8c3b1",
   "metadata": {},
   "outputs": [],
   "source": [
    "# 1. Read/import images from the folder ‘training_images’\n",
    "import cv2\n",
    "import os\n",
    "import zipfile\n",
    "\n",
    "# Define the path to the ZIP file and the extraction directory\n",
    "zip_path = 'training_images-20211126T092819Z-001.zip'\n",
    "extract_path = 'training_images'\n",
    "\n",
    "# Check if the extraction directory exists; if not, extract the ZIP file\n",
    "if not os.path.exists(extract_path):\n",
    "    with zipfile.ZipFile(zip_path, 'r') as zip_ref:\n",
    "        zip_ref.extractall(extract_path)\n",
    "\n",
    "# Get a list of image file extensions to filter the files\n",
    "image_extensions = ('.png', '.jpg', '.jpeg', '.bmp', '.tif', '.tiff')\n",
    "\n",
    "# Read images from the extracted directory\n",
    "training_images = []\n",
    "for f in os.listdir(\"training_images/training_images\"):\n",
    "    if f.lower().endswith(image_extensions):\n",
    "        img_path = os.path.join(\"training_images/training_images\", f)\n",
    "        img = cv2.imread(img_path)\n",
    "        if img is not None:\n",
    "            training_images.append(img)\n",
    "        else:\n",
    "            print(f\"Warning: Unable to read image {img_path}\")"
   ]
  },
  {
   "cell_type": "code",
   "execution_count": 2,
   "id": "e3934105-bfad-43fc-98be-6f9917894a50",
   "metadata": {},
   "outputs": [],
   "source": [
    "# 2. Write a loop to detect faces using Haar cascade\n",
    "# Load the Haar Cascade classifier for face detection\n",
    "face_cascade = cv2.CascadeClassifier(cv2.data.haarcascades + 'haarcascade_frontalface_default.xml')\n",
    "\n",
    "# Initialize a list to store the detected faces\n",
    "faces_data = []\n",
    "\n",
    "# Loop through each image in the training_images list\n",
    "for img in training_images:\n",
    "    # Convert the image to grayscale\n",
    "    gray_img = cv2.cvtColor(img, cv2.COLOR_BGR2GRAY)\n",
    "    # Detect faces in the image\n",
    "    faces = face_cascade.detectMultiScale(gray_img, scaleFactor=1.1, minNeighbors=5)\n",
    "    # Append the detected faces to the faces_data list\n",
    "    faces_data.append(faces)"
   ]
  },
  {
   "cell_type": "code",
   "execution_count": 3,
   "id": "60494cf3-0fc3-414c-803e-733220651d6a",
   "metadata": {},
   "outputs": [
    {
     "data": {
      "text/html": [
       "<div>\n",
       "<style scoped>\n",
       "    .dataframe tbody tr th:only-of-type {\n",
       "        vertical-align: middle;\n",
       "    }\n",
       "\n",
       "    .dataframe tbody tr th {\n",
       "        vertical-align: top;\n",
       "    }\n",
       "\n",
       "    .dataframe thead th {\n",
       "        text-align: right;\n",
       "    }\n",
       "</style>\n",
       "<table border=\"1\" class=\"dataframe\">\n",
       "  <thead>\n",
       "    <tr style=\"text-align: right;\">\n",
       "      <th></th>\n",
       "      <th>Image_Index</th>\n",
       "      <th>X</th>\n",
       "      <th>Y</th>\n",
       "      <th>Width</th>\n",
       "      <th>Height</th>\n",
       "    </tr>\n",
       "  </thead>\n",
       "  <tbody>\n",
       "    <tr>\n",
       "      <th>0</th>\n",
       "      <td>0</td>\n",
       "      <td>146</td>\n",
       "      <td>140</td>\n",
       "      <td>428</td>\n",
       "      <td>428</td>\n",
       "    </tr>\n",
       "    <tr>\n",
       "      <th>1</th>\n",
       "      <td>1</td>\n",
       "      <td>80</td>\n",
       "      <td>140</td>\n",
       "      <td>436</td>\n",
       "      <td>436</td>\n",
       "    </tr>\n",
       "    <tr>\n",
       "      <th>2</th>\n",
       "      <td>2</td>\n",
       "      <td>33</td>\n",
       "      <td>121</td>\n",
       "      <td>362</td>\n",
       "      <td>362</td>\n",
       "    </tr>\n",
       "    <tr>\n",
       "      <th>3</th>\n",
       "      <td>3</td>\n",
       "      <td>134</td>\n",
       "      <td>173</td>\n",
       "      <td>356</td>\n",
       "      <td>356</td>\n",
       "    </tr>\n",
       "    <tr>\n",
       "      <th>4</th>\n",
       "      <td>5</td>\n",
       "      <td>61</td>\n",
       "      <td>62</td>\n",
       "      <td>472</td>\n",
       "      <td>472</td>\n",
       "    </tr>\n",
       "  </tbody>\n",
       "</table>\n",
       "</div>"
      ],
      "text/plain": [
       "   Image_Index    X    Y  Width  Height\n",
       "0            0  146  140    428     428\n",
       "1            1   80  140    436     436\n",
       "2            2   33  121    362     362\n",
       "3            3  134  173    356     356\n",
       "4            5   61   62    472     472"
      ]
     },
     "execution_count": 3,
     "metadata": {},
     "output_type": "execute_result"
    }
   ],
   "source": [
    "# 3. Extract metadata of faces and write into DataFrame\n",
    "import pandas as pd\n",
    "metadata = []\n",
    "\n",
    "for i, faces in enumerate(faces_data):\n",
    "    for (x, y, w, h) in faces:\n",
    "        metadata.append([i, x, y, w, h])\n",
    "\n",
    "metadata_df = pd.DataFrame(metadata, columns=['Image_Index', 'X', 'Y', 'Width', 'Height'])\n",
    "metadata_df.head()"
   ]
  },
  {
   "cell_type": "code",
   "execution_count": 4,
   "id": "6c97d822-58aa-4ae6-a8e5-434e4d8bc6fe",
   "metadata": {},
   "outputs": [],
   "source": [
    "# 4. Save the DataFrame as a CSV file\n",
    "metadata_df.to_csv('face_metadata.csv', index=False)"
   ]
  }
 ],
 "metadata": {
  "kernelspec": {
   "display_name": "Python 3 (ipykernel)",
   "language": "python",
   "name": "python3"
  },
  "language_info": {
   "codemirror_mode": {
    "name": "ipython",
    "version": 3
   },
   "file_extension": ".py",
   "mimetype": "text/x-python",
   "name": "python",
   "nbconvert_exporter": "python",
   "pygments_lexer": "ipython3",
   "version": "3.12.4"
  }
 },
 "nbformat": 4,
 "nbformat_minor": 5
}
