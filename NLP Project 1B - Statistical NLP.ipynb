{
 "cells": [
  {
   "cell_type": "markdown",
   "id": "1290d81c-9cf5-4237-aa81-fbf23a65313d",
   "metadata": {},
   "source": [
    "# Statistical NLP Part B"
   ]
  },
  {
   "cell_type": "raw",
   "id": "8dc3aa98-d775-469d-90e9-2d25d85c90f0",
   "metadata": {},
   "source": [
    "• DOMAIN: Customer support\n",
    "• CONTEXT: Great Learning has a an academic support department which receives numerous support requests every day throughout the year.\n",
    "Teams are spread across geographies and try to provide support round the year. Sometimes there are circumstances where due to heavy\n",
    "workload certain request resolutions are delayed, impacting company’s business. Some of the requests are very generic where a proper\n",
    "resolution procedure delivered to the user can solve the problem. Company is looking forward to design an automation which can interact with\n",
    "the user, understand the problem and display the resolution procedure [ if found as a generic request ] or redirect the request to an actual human\n",
    "support executive if the request is complex or not in it’s database.\n",
    "• DATA DESCRIPTION: A sample corpus is attached for your reference. Please enhance/add more data to the corpus using your linguistics skills.\n",
    "• PROJECT OBJECTIVE: Design a python based interactive semi - rule based chatbot which can do the following:\n",
    "1. Start chat session with greetings and ask what the user is looking for. [5 Marks]\n",
    "2. Accept dynamic text based questions from the user. Reply back with relevant answer from the designed corpus. [10 Marks]\n",
    "3. End the chat session only if the user requests to end else ask what the user is looking for. Loop continues till the user asks to end it. [5 Marks]\n",
    "Hint: There are a lot of techniques using which one can clean and prepare the data which can be used to train a ML/DL classifier. Hence, it might\n",
    "require you to experiment, research, self learn and implement the above classifier. There might be many iterations between hand building the\n",
    "corpus and designing the best fit text classifier. As the quality and quantity of corpus increases the model’s performance i.e. ability to answer\n",
    "right questions also increases.\n",
    "Reference: https://www.mygreatlearning.com/blog/basics-of-building-an-artificial-intelligence-chatbot/\n",
    "• Evaluation: Evaluator will use linguistics to twist and turn sentences to ask questions on the topics described in DATA DESCRIPTION and check if\n",
    "the bot is giving relevant replies."
   ]
  },
  {
   "cell_type": "code",
   "execution_count": 2,
   "id": "02a0c420-4c1d-4daf-9541-189762e78f3b",
   "metadata": {},
   "outputs": [
    {
     "name": "stderr",
     "output_type": "stream",
     "text": [
      "[nltk_data] Downloading package punkt to\n",
      "[nltk_data]     C:\\Users\\kanak\\AppData\\Roaming\\nltk_data...\n",
      "[nltk_data]   Package punkt is already up-to-date!\n",
      "[nltk_data] Downloading package wordnet to\n",
      "[nltk_data]     C:\\Users\\kanak\\AppData\\Roaming\\nltk_data...\n",
      "[nltk_data]   Package wordnet is already up-to-date!\n",
      "[nltk_data] Downloading package omw-1.4 to\n",
      "[nltk_data]     C:\\Users\\kanak\\AppData\\Roaming\\nltk_data...\n",
      "[nltk_data]   Package omw-1.4 is already up-to-date!\n"
     ]
    }
   ],
   "source": [
    "# Importing necessary libraries\n",
    "import json\n",
    "import numpy as np\n",
    "import random\n",
    "import nltk\n",
    "from nltk.stem import WordNetLemmatizer\n",
    "from sklearn.feature_extraction.text import CountVectorizer\n",
    "from sklearn.metrics.pairwise import cosine_similarity\n",
    "\n",
    "# Downloading nltk data\n",
    "nltk.download('punkt')\n",
    "nltk.download('wordnet')\n",
    "nltk.download('omw-1.4')\n",
    "\n",
    "lemmatizer = WordNetLemmatizer()"
   ]
  },
  {
   "cell_type": "code",
   "execution_count": 3,
   "id": "1b3fdc8b-e844-4b7b-9599-6b85bed5011f",
   "metadata": {},
   "outputs": [
    {
     "name": "stdout",
     "output_type": "stream",
     "text": [
      "{\n",
      "    \"intents\": [\n",
      "        {\n",
      "            \"tag\": \"Intro\",\n",
      "            \"patterns\": [\n",
      "                \"hi\",\n",
      "                \"how are you\",\n",
      "                \"is anyone there\",\n",
      "                \"hello\",\n",
      "                \"whats up\",\n",
      "                \"hey\",\n",
      "                \"yo\",\n",
      "                \"listen\",\n",
      "                \"please help me\",\n",
      "                \"i am learner from\",\n",
      "                \"i belong to\",\n",
      "                \"aiml batch\",\n",
      "                \"aifl batch\",\n",
      "                \"i am from\",\n",
      "                \"my pm is\",\n",
      "                \"blended\",\n",
      "                \"online\",\n",
      "                \"i am from\",\n",
      "                \"hey ya\",\n",
      "                \"talking to you for first time\"\n",
      "            ],\n",
      "            \"responses\": [\n",
      "                \"Hello! how can i help you ?\"\n",
      "            ],\n",
      "            \"context_set\": \"\"\n",
      "        },\n",
      "        {\n",
      "            \"tag\": \"Exit\",\n",
      "            \"patterns\": [\n",
      "                \"thank you\",\n",
      "                \"thanks\",\n",
      "                \"cya\",\n",
      "                \"see you\",\n",
      "                \"later\",\n",
      "                \"see you later\",\n",
      "                \"goodbye\",\n",
      "                \"i am leaving\",\n",
      "                \"have a Good day\",\n",
      "                \"you helped me\",\n",
      "                \"thanks a lot\",\n",
      "                \"thanks a ton\",\n",
      "                \"you are the best\",\n",
      "                \"great help\",\n",
      "                \"too good\",\n",
      "                \"you are a good learning buddy\"\n",
      "            ],\n",
      "            \"responses\": [\n",
      "                \"I hope I was able to assist you, Good Bye\"\n",
      "            ],\n",
      "            \"context_set\": \"\"\n",
      "        },\n",
      "        {\n",
      "            \"tag\": \"Olympus\",\n",
      "            \"patterns\": [\n",
      "                \"olympus\",\n",
      "                \"explain me how olympus works\",\n",
      "                \"I am not able to understand olympus\",\n",
      "                \"olympus window not working\",\n",
      "                \"no access to olympus\",\n",
      "                \"unable to see link in olympus\",\n",
      "                \"no link visible on olympus\",\n",
      "                \"whom to contact for olympus\",\n",
      "                \"lot of problem with olympus\",\n",
      "                \"olypus is not a good tool\",\n",
      "                \"lot of problems with olympus\",\n",
      "                \"how to use olympus\",\n",
      "                \"teach me olympus\"\n",
      "            ],\n",
      "            \"responses\": [\n",
      "                \"Link: Olympus wiki\"\n",
      "            ],\n",
      "            \"context_set\": \"\"\n",
      "        },\n",
      "        {\n",
      "            \"tag\": \"SL\",\n",
      "            \"patterns\": [\n",
      "                \"i am not able to understand svm\",\n",
      "                \"explain me how machine learning works\",\n",
      "                \"i am not able to understand naive bayes\",\n",
      "                \"i am not able to understand logistic regression\",\n",
      "                \"i am not able to understand ensemble techb=niques\",\n",
      "                \"i am not able to understand knn\",\n",
      "                \"i am not able to understand knn imputer\",\n",
      "                \"i am not able to understand cross validation\",\n",
      "                \"i am not able to understand boosting\",\n",
      "                \"i am not able to understand random forest\",\n",
      "                \"i am not able to understand ada boosting\",\n",
      "                \"i am not able to understand gradient boosting\",\n",
      "                \"machine learning\",\n",
      "                \"ML\",\n",
      "                \"SL\",\n",
      "                \"supervised learning\",\n",
      "                \"knn\",\n",
      "                \"logistic regression\",\n",
      "                \"regression\",\n",
      "                \"classification\",\n",
      "                \"naive bayes\",\n",
      "                \"nb\",\n",
      "                \"ensemble techniques\",\n",
      "                \"bagging\",\n",
      "                \"boosting\",\n",
      "                \"ada boosting\",\n",
      "                \"ada\",\n",
      "                \"gradient boosting\",\n",
      "                \"hyper parameters\"\n",
      "            ],\n",
      "            \"responses\": [\n",
      "                \"Link: Machine Learning wiki \"\n",
      "            ],\n",
      "            \"context_set\": \"\"\n",
      "        },\n",
      "        {\n",
      "            \"tag\": \"NN\",\n",
      "            \"patterns\": [\n",
      "                \"what is deep learning\",\n",
      "                \"unable to understand deep learning\",\n",
      "                \"explain me how deep learning works\",\n",
      "                \"i am not able to understand deep learning\",\n",
      "                \"not able to understand neural nets\",\n",
      "                \"very diffult to understand neural nets\",\n",
      "                \"unable to understand neural nets\",\n",
      "                \"ann\",\n",
      "                \"artificial intelligence\",\n",
      "                \"artificial neural networks\",\n",
      "                \"weights\",\n",
      "                \"activation function\",\n",
      "                \"hidden layers\",\n",
      "                \"softmax\",\n",
      "                \"sigmoid\",\n",
      "                \"relu\",\n",
      "                \"otimizer\",\n",
      "                \"forward propagation\",\n",
      "                \"backward propagation\",\n",
      "                \"epochs\",\n",
      "                \"epoch\",\n",
      "                \"what is an epoch\",\n",
      "                \"adam\",\n",
      "                \"sgd\"\n",
      "            ],\n",
      "            \"responses\": [\n",
      "                \"Link: Neural Nets wiki\"\n",
      "            ],\n",
      "            \"context_set\": \"\"\n",
      "        },\n",
      "        {\n",
      "            \"tag\": \"Bot\",\n",
      "            \"patterns\": [\n",
      "                \"what is your name\",\n",
      "                \"who are you\",\n",
      "                \"name please\",\n",
      "                \"when are your hours of opertions\",\n",
      "                \"what are your working hours\",\n",
      "                \"hours of operation\",\n",
      "                \"working hours\",\n",
      "                \"hours\"\n",
      "            ],\n",
      "            \"responses\": [\n",
      "                \"I am your virtual learning assistant\"\n",
      "            ],\n",
      "            \"context_set\": \"\"\n",
      "        },\n",
      "        {\n",
      "            \"tag\": \"Profane\",\n",
      "            \"patterns\": [\n",
      "                \"what the hell\",\n",
      "                \"bloody stupid bot\",\n",
      "                \"do you think you are very smart\",\n",
      "                \"screw you\",\n",
      "                \"i hate you\",\n",
      "                \"you are stupid\",\n",
      "                \"jerk\",\n",
      "                \"you are a joke\",\n",
      "                \"useless piece of shit\"\n",
      "            ],\n",
      "            \"responses\": [\n",
      "                \"Please use respectful words\"\n",
      "            ],\n",
      "            \"context_set\": \"\"\n",
      "        },\n",
      "        {\n",
      "            \"tag\": \"Ticket\",\n",
      "            \"patterns\": [\n",
      "                \"my problem is not solved\",\n",
      "                \"you did not help me\",\n",
      "                \"not a good solution\",\n",
      "                \"bad solution\",\n",
      "                \"not good solution\",\n",
      "                \"no help\",\n",
      "                \"wasted my time\",\n",
      "                \"useless bot\",\n",
      "                \"create a ticket\"\n",
      "            ],\n",
      "            \"responses\": [\n",
      "                \"Tarnsferring the request to your PM\"\n",
      "            ],\n",
      "            \"context_set\": \"\"\n",
      "        }\n",
      "    ]\n",
      "}\n"
     ]
    }
   ],
   "source": [
    "# Load the data from the provided JSON file\n",
    "with open('GL Bot.json', 'r') as file:\n",
    "    data = json.load(file)\n",
    "\n",
    "# Explore the structure of the dataset\n",
    "print(json.dumps(data, indent=4))"
   ]
  },
  {
   "cell_type": "code",
   "execution_count": 4,
   "id": "8c87b170-b5a0-4bd1-b37b-52ca4a062612",
   "metadata": {},
   "outputs": [
    {
     "name": "stdout",
     "output_type": "stream",
     "text": [
      "Patterns (tokenized and lemmatized): [['hi'], ['how', 'are', 'you'], ['is', 'anyone', 'there'], ['hello'], ['whats', 'up']]\n",
      "Tags: ['Intro', 'Intro', 'Intro', 'Intro', 'Intro']\n"
     ]
    }
   ],
   "source": [
    "# Data Preprocessing\n",
    "# Initialize lists for patterns (inputs) and tags (labels)\n",
    "patterns = []\n",
    "tags = []\n",
    "responses = {}\n",
    "classes = []\n",
    "\n",
    "# Loop through the intents and extract patterns and their corresponding tag\n",
    "for intent in data['intents']:\n",
    "    for pattern in intent['patterns']:\n",
    "        # Tokenizing the sentence into words\n",
    "        word_list = nltk.word_tokenize(pattern)\n",
    "        patterns.append(word_list)\n",
    "        tags.append(intent['tag'])\n",
    "        \n",
    "    # Store the tag and its responses\n",
    "    if intent['tag'] not in responses:\n",
    "        responses[intent['tag']] = intent['responses']\n",
    "        \n",
    "    # Add tag to the class list\n",
    "    if intent['tag'] not in classes:\n",
    "        classes.append(intent['tag'])\n",
    "\n",
    "# Lemmatize and lower each word and remove duplicates\n",
    "patterns = [[lemmatizer.lemmatize(word.lower()) for word in pattern] for pattern in patterns]\n",
    "\n",
    "print(\"Patterns (tokenized and lemmatized):\", patterns[:5])\n",
    "print(\"Tags:\", tags[:5])"
   ]
  },
  {
   "cell_type": "code",
   "execution_count": 5,
   "id": "617e1a51-813c-4be5-ac09-257371fdc256",
   "metadata": {},
   "outputs": [
    {
     "name": "stdout",
     "output_type": "stream",
     "text": [
      "Shape of X (features): (128, 158)\n",
      "Shape of Y (target labels): (128,)\n"
     ]
    },
    {
     "name": "stderr",
     "output_type": "stream",
     "text": [
      "C:\\ProgramData\\anaconda3\\Lib\\site-packages\\sklearn\\feature_extraction\\text.py:525: UserWarning: The parameter 'token_pattern' will not be used since 'tokenizer' is not None'\n",
      "  warnings.warn(\n"
     ]
    }
   ],
   "source": [
    "# Create a Bag of Words Model\n",
    "# Flatten the list of patterns to get the vocabulary\n",
    "vocabulary = set([lemmatizer.lemmatize(word.lower()) for pattern in patterns for word in pattern])\n",
    "\n",
    "# Convert the patterns into a bag of words (BOW) representation\n",
    "vectorizer = CountVectorizer(vocabulary=vocabulary, lowercase=False, tokenizer=lambda text: text, preprocessor=lambda text: text)\n",
    "X = vectorizer.fit_transform(patterns).toarray()\n",
    "\n",
    "# Assign tag indices to the responses (target labels)\n",
    "Y = np.array([classes.index(tag) for tag in tags])\n",
    "\n",
    "# Check the shape of X and Y\n",
    "print(\"Shape of X (features):\", X.shape)\n",
    "print(\"Shape of Y (target labels):\", Y.shape)"
   ]
  },
  {
   "cell_type": "code",
   "execution_count": 6,
   "id": "c9fb78f0-6a75-48b6-9a08-b793e7ec4cc4",
   "metadata": {},
   "outputs": [
    {
     "name": "stdout",
     "output_type": "stream",
     "text": [
      "Model Accuracy: 53.85%\n"
     ]
    }
   ],
   "source": [
    "# Train a Simple Classifier\n",
    "\n",
    "from sklearn.model_selection import train_test_split\n",
    "from sklearn.svm import SVC\n",
    "from sklearn.metrics import accuracy_score\n",
    "\n",
    "# Split the data into training and testing sets\n",
    "X_train, X_test, Y_train, Y_test = train_test_split(X, Y, test_size=0.2, random_state=42)\n",
    "\n",
    "# Train the SVM classifier\n",
    "clf = SVC(kernel='linear', probability=True)\n",
    "clf.fit(X_train, Y_train)\n",
    "\n",
    "# Test the classifier on the test set\n",
    "Y_pred = clf.predict(X_test)\n",
    "accuracy = accuracy_score(Y_test, Y_pred)\n",
    "\n",
    "print(f\"Model Accuracy: {accuracy * 100:.2f}%\")"
   ]
  },
  {
   "cell_type": "code",
   "execution_count": 7,
   "id": "21a19e7f-4b06-4911-9d0f-faf4c4d2c0b0",
   "metadata": {},
   "outputs": [],
   "source": [
    "# Create Functions for Chatbot Interaction\n",
    "# Function to preprocess user input\n",
    "def clean_input(user_input):\n",
    "    tokenized = nltk.word_tokenize(user_input)\n",
    "    tokenized = [lemmatizer.lemmatize(word.lower()) for word in tokenized]\n",
    "    input_vector = vectorizer.transform([tokenized]).toarray()\n",
    "    return input_vector\n",
    "\n",
    "# Function to get response based on model prediction\n",
    "def get_response(user_input):\n",
    "    input_vector = clean_input(user_input)\n",
    "    predicted_tag_index = clf.predict(input_vector)[0]\n",
    "    predicted_tag = classes[predicted_tag_index]\n",
    "    \n",
    "    # Return a random response from the corresponding tag\n",
    "    return random.choice(responses[predicted_tag])"
   ]
  },
  {
   "cell_type": "code",
   "execution_count": 8,
   "id": "ca4ba949-2d2f-44f9-907c-c9e0056e46c6",
   "metadata": {},
   "outputs": [
    {
     "name": "stdout",
     "output_type": "stream",
     "text": [
      "Bot: Hello! How can I help you today?\n"
     ]
    },
    {
     "name": "stdin",
     "output_type": "stream",
     "text": [
      "You:  Hi\n"
     ]
    },
    {
     "name": "stdout",
     "output_type": "stream",
     "text": [
      "Bot: Hello! how can i help you ?\n"
     ]
    },
    {
     "name": "stdin",
     "output_type": "stream",
     "text": [
      "You:  Tell me about Great Learning\n"
     ]
    },
    {
     "name": "stdout",
     "output_type": "stream",
     "text": [
      "Bot: I hope I was able to assist you, Good Bye\n"
     ]
    },
    {
     "name": "stdin",
     "output_type": "stream",
     "text": [
      "You:  Bye\n"
     ]
    },
    {
     "name": "stdout",
     "output_type": "stream",
     "text": [
      "Bot: I hope I was able to assist you. Goodbye!\n"
     ]
    }
   ],
   "source": [
    "# Build the Chatbot Loop\n",
    "def chat():\n",
    "    print(\"Bot: Hello! How can I help you today?\")\n",
    "    \n",
    "    while True:\n",
    "        # Take user input\n",
    "        user_input = input(\"You: \")\n",
    "        \n",
    "        # If the user wants to exit\n",
    "        if user_input.lower() in [\"exit\", \"quit\", \"bye\", \"goodbye\"]:\n",
    "            print(\"Bot: I hope I was able to assist you. Goodbye!\")\n",
    "            break\n",
    "        \n",
    "        # Get the chatbot's response\n",
    "        bot_response = get_response(user_input)\n",
    "        print(f\"Bot: {bot_response}\")\n",
    "\n",
    "# Start the chatbot interaction\n",
    "chat()"
   ]
  },
  {
   "cell_type": "code",
   "execution_count": 9,
   "id": "bf3075c5-dc2f-43f5-870e-62159a6c4acc",
   "metadata": {},
   "outputs": [
    {
     "name": "stdout",
     "output_type": "stream",
     "text": [
      "Bot: Hello! How can I help you today?\n"
     ]
    },
    {
     "name": "stdin",
     "output_type": "stream",
     "text": [
      "You:  Hi\n"
     ]
    },
    {
     "name": "stdout",
     "output_type": "stream",
     "text": [
      "Bot: Hello! how can i help you ?\n"
     ]
    },
    {
     "name": "stdin",
     "output_type": "stream",
     "text": [
      "You:  Bye\n"
     ]
    },
    {
     "name": "stdout",
     "output_type": "stream",
     "text": [
      "Bot: I hope I was able to assist you. Goodbye!\n"
     ]
    }
   ],
   "source": [
    "# Improve User Interaction with More Responses and Handling Unknown Inputs\n",
    "# Modify the get_response function to handle unknown inputs\n",
    "def get_response(user_input, threshold=0.3):\n",
    "    input_vector = clean_input(user_input)\n",
    "    predicted_proba = clf.predict_proba(input_vector)[0]\n",
    "    \n",
    "    # If the highest probability is below the threshold, return a fallback response\n",
    "    if max(predicted_proba) < threshold:\n",
    "        return \"I'm sorry, I didn't understand that. Could you please rephrase?\"\n",
    "    \n",
    "    predicted_tag_index = np.argmax(predicted_proba)\n",
    "    predicted_tag = classes[predicted_tag_index]\n",
    "    \n",
    "    # Return a random response from the corresponding tag\n",
    "    return random.choice(responses[predicted_tag])\n",
    "\n",
    "# Re-run the chat loop to include this new functionality\n",
    "chat()"
   ]
  },
  {
   "cell_type": "code",
   "execution_count": 10,
   "id": "20a1b56f-1e5d-4a67-bf4e-15c06e8cef3a",
   "metadata": {},
   "outputs": [
    {
     "name": "stdout",
     "output_type": "stream",
     "text": [
      "Bot: Hello! How can I help you today?\n"
     ]
    },
    {
     "name": "stdin",
     "output_type": "stream",
     "text": [
      "You:  HI\n"
     ]
    },
    {
     "name": "stdout",
     "output_type": "stream",
     "text": [
      "Bot: Hello! how can i help you ?\n"
     ]
    },
    {
     "name": "stdin",
     "output_type": "stream",
     "text": [
      "You:  Bye\n"
     ]
    },
    {
     "name": "stdout",
     "output_type": "stream",
     "text": [
      "Bot: I hope I was able to assist you. Goodbye!\n"
     ]
    }
   ],
   "source": [
    "# Add Logging to Track Chat Conversations\n",
    "# Function to log the conversation to a file\n",
    "def log_conversation(user_input, bot_response):\n",
    "    with open(\"chat_log.txt\", \"a\") as log_file:\n",
    "        log_file.write(f\"User: {user_input}\\n\")\n",
    "        log_file.write(f\"Bot: {bot_response}\\n\\n\")\n",
    "\n",
    "# Modify the chat function to include logging\n",
    "def chat():\n",
    "    print(\"Bot: Hello! How can I help you today?\")\n",
    "    \n",
    "    while True:\n",
    "        # Take user input\n",
    "        user_input = input(\"You: \")\n",
    "        \n",
    "        # If the user wants to exit\n",
    "        if user_input.lower() in [\"exit\", \"quit\", \"bye\", \"goodbye\"]:\n",
    "            bot_response = \"I hope I was able to assist you. Goodbye!\"\n",
    "            print(f\"Bot: {bot_response}\")\n",
    "            log_conversation(user_input, bot_response)\n",
    "            break\n",
    "        \n",
    "        # Get the chatbot's response\n",
    "        bot_response = get_response(user_input)\n",
    "        print(f\"Bot: {bot_response}\")\n",
    "        \n",
    "        # Log the conversation\n",
    "        log_conversation(user_input, bot_response)\n",
    "\n",
    "# Start the chatbot with logging\n",
    "chat()"
   ]
  }
 ],
 "metadata": {
  "kernelspec": {
   "display_name": "Python 3 (ipykernel)",
   "language": "python",
   "name": "python3"
  },
  "language_info": {
   "codemirror_mode": {
    "name": "ipython",
    "version": 3
   },
   "file_extension": ".py",
   "mimetype": "text/x-python",
   "name": "python",
   "nbconvert_exporter": "python",
   "pygments_lexer": "ipython3",
   "version": "3.12.4"
  }
 },
 "nbformat": 4,
 "nbformat_minor": 5
}
